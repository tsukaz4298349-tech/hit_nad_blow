{
 "cells": [
  {
   "cell_type": "code",
   "execution_count": 12,
   "id": "2b1eeed3-bd9a-44f1-93bc-430259dffe8d",
   "metadata": {},
   "outputs": [
    {
     "name": "stdout",
     "output_type": "stream",
     "text": [
      "数当てゲームスタート!\n",
      "私が1〜9までの数値を使ってランダムな数を作ります。\n",
      "あなたは1桁から9桁の桁数を指定してください。\n"
     ]
    },
    {
     "name": "stdin",
     "output_type": "stream",
     "text": [
      "何桁の数字でゲームをしますか？(1 ~ 9): 3\n",
      "3桁の数字を入力してください 123\n"
     ]
    },
    {
     "name": "stdout",
     "output_type": "stream",
     "text": [
      "[1, 2, 3]\n",
      "1回目の回答です。\n",
      "ヒット:0,ブロー:0\n"
     ]
    },
    {
     "name": "stdin",
     "output_type": "stream",
     "text": [
      "3桁の数字を入力してください 456\n"
     ]
    },
    {
     "name": "stdout",
     "output_type": "stream",
     "text": [
      "[4, 5, 6]\n",
      "2回目の回答です。\n",
      "ヒット:1,ブロー:1\n"
     ]
    },
    {
     "name": "stdin",
     "output_type": "stream",
     "text": [
      "3桁の数字を入力してください 478\n"
     ]
    },
    {
     "name": "stdout",
     "output_type": "stream",
     "text": [
      "[4, 7, 8]\n",
      "3回目の回答です。\n",
      "ヒット:1,ブロー:1\n"
     ]
    },
    {
     "name": "stdin",
     "output_type": "stream",
     "text": [
      "3桁の数字を入力してください 578\n"
     ]
    },
    {
     "name": "stdout",
     "output_type": "stream",
     "text": [
      "[5, 7, 8]\n",
      "4回目の回答です。\n",
      "ヒット:0,ブロー:2\n"
     ]
    },
    {
     "name": "stdin",
     "output_type": "stream",
     "text": [
      "3桁の数字を入力してください 487\n"
     ]
    },
    {
     "name": "stdout",
     "output_type": "stream",
     "text": [
      "[4, 8, 7]\n",
      "5回目の回答です。\n",
      "ヒット:2,ブロー:0\n"
     ]
    },
    {
     "name": "stdin",
     "output_type": "stream",
     "text": [
      "3桁の数字を入力してください 489\n"
     ]
    },
    {
     "name": "stdout",
     "output_type": "stream",
     "text": [
      "[4, 8, 9]\n",
      "6回目の回答です。\n",
      "ヒット:2,ブロー:0\n"
     ]
    },
    {
     "name": "stdin",
     "output_type": "stream",
     "text": [
      "3桁の数字を入力してください 481\n"
     ]
    },
    {
     "name": "stdout",
     "output_type": "stream",
     "text": [
      "[4, 8, 1]\n",
      "7回目の回答です。\n",
      "ヒット:2,ブロー:0\n"
     ]
    },
    {
     "name": "stdin",
     "output_type": "stream",
     "text": [
      "3桁の数字を入力してください 482\n"
     ]
    },
    {
     "name": "stdout",
     "output_type": "stream",
     "text": [
      "[4, 8, 2]\n",
      "8回目の回答です。\n",
      "ヒット:2,ブロー:0\n"
     ]
    },
    {
     "name": "stdin",
     "output_type": "stream",
     "text": [
      "3桁の数字を入力してください 483\n"
     ]
    },
    {
     "name": "stdout",
     "output_type": "stream",
     "text": [
      "[4, 8, 3]\n",
      "9回目の回答です。\n",
      "ヒット:2,ブロー:0\n"
     ]
    },
    {
     "name": "stdin",
     "output_type": "stream",
     "text": [
      "3桁の数字を入力してください 484\n"
     ]
    },
    {
     "name": "stdout",
     "output_type": "stream",
     "text": [
      "[4, 8, 4]\n",
      "10回目の回答です。\n",
      "ヒット:2,ブロー:0\n"
     ]
    },
    {
     "name": "stdin",
     "output_type": "stream",
     "text": [
      "3桁の数字を入力してください 485\n"
     ]
    },
    {
     "name": "stdout",
     "output_type": "stream",
     "text": [
      "[4, 8, 5]\n",
      "11回目の回答です。\n",
      "正解！ゲームクリアです！正解=[4, 8, 5]\n",
      "11回で正解しました。\n"
     ]
    }
   ],
   "source": [
    "import random\n",
    "\n",
    "def check_hit_and_blow(secret,guess):\n",
    "    \"\"\"ユーザーの推測値と正解を比較して、ヒットとブローの数を返す\"\"\"\n",
    "\n",
    "    #ヒットとブロー変数の初期化\n",
    "    hit=0\n",
    "    blow=0\n",
    "\n",
    "    #ヒットのカウント(ヒット＝数字と位置が合っている)\n",
    "    for i in range(len(secret)):\n",
    "        if secret[i]==guess[i]:\n",
    "            hit +=1\n",
    "\n",
    "    #重複数のカウント\n",
    "    hit_and_blow=0\n",
    "    for num in secret:\n",
    "        if num in guess:\n",
    "            hit_and_blow +=1\n",
    "\n",
    "    #ブロー＝重複数からヒット数を引く\n",
    "    blow=hit_and_blow - hit\n",
    "\n",
    "    return hit,blow\n",
    "\n",
    "#ゲーム開始の説明\n",
    "print(\"数当てゲームスタート!\")\n",
    "print(\"私が1〜9までの数値を使ってランダムな数を作ります。\")\n",
    "print(\"あなたは1桁から9桁の桁数を指定してください。\")\n",
    "\n",
    "#桁数入力\n",
    "while True:\n",
    "    n=int(input(\"何桁の数字でゲームをしますか？(1 ~ 9):\"))\n",
    "\n",
    "    #1 ~ 9の入力をされたらループを抜ける\n",
    "    if 1<=n <=9:\n",
    "        break\n",
    "    print(\"1 ~ 9の数字を入力してください。\")\n",
    "\n",
    "#正解の数\n",
    "numbers=[1,2,3,4,5,6,7,8,9]\n",
    "secret_numbers=random.sample(numbers,n)\n",
    "\n",
    "#試行回数を初期化\n",
    "trial_count=0\n",
    "\n",
    "#ユーザーから推測した数字を受け取って正解するまでループを回す\n",
    "while True:\n",
    "    guess_number=input(f\"{n}桁の数字を入力してください\")\n",
    "\n",
    "    #入力を整数のリストに変換\n",
    "    guess_list=[]\n",
    "    for char in guess_number:\n",
    "        guess_list.append(int(char))\n",
    "    print(guess_list)\n",
    "\n",
    "    #試行回数をカウントアップ\n",
    "    trial_count +=1\n",
    "    print(f\"{trial_count}回目の回答です。\")\n",
    "\n",
    "    #ユーザーの推測値を正解と比較し、ヒット数とブロー数を返す\n",
    "    hit,blow=check_hit_and_blow(secret_numbers,guess_list)\n",
    "\n",
    "    #結果表示\n",
    "    if hit == n:\n",
    "        print(f\"正解！ゲームクリアです！正解={secret_numbers}\")\n",
    "        print(f\"{trial_count}回で正解しました。\")\n",
    "        break\n",
    "    else:\n",
    "        print(f\"ヒット:{hit},ブロー:{blow}\")"
   ]
  },
  {
   "cell_type": "code",
   "execution_count": null,
   "id": "2b07ba42-e4b5-4bd6-9120-e6da32960340",
   "metadata": {},
   "outputs": [],
   "source": []
  }
 ],
 "metadata": {
  "kernelspec": {
   "display_name": "Python 3 (ipykernel)",
   "language": "python",
   "name": "python3"
  },
  "language_info": {
   "codemirror_mode": {
    "name": "ipython",
    "version": 3
   },
   "file_extension": ".py",
   "mimetype": "text/x-python",
   "name": "python",
   "nbconvert_exporter": "python",
   "pygments_lexer": "ipython3",
   "version": "3.13.3"
  }
 },
 "nbformat": 4,
 "nbformat_minor": 5
}
